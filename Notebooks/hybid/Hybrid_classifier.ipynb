{
 "cells": [
  {
   "cell_type": "markdown",
   "metadata": {
    "vscode": {
     "languageId": "plaintext"
    }
   },
   "source": [
    "`Markdown`"
   ]
  },
  {
   "cell_type": "code",
   "execution_count": null,
   "metadata": {
    "vscode": {
     "languageId": "plaintext"
    }
   },
   "outputs": [],
   "source": [
    "import os\n",
    "import numpy as np\n",
    "from scipy.signal import butter, sosfilt, hilbert\n",
    "from sklearn.discriminant_analysis import LinearDiscriminantAnalysis as LDA\n",
    "from sklearn.covariance import LedoitWolf\n",
    "from sklearn.metrics import accuracy_score\n",
    "from mne.decoding import CSP\n",
    "from os.path import join\n",
    "import sys\n",
    "import mne\n",
    "\n",
    "mne.set_log_level('warning')\n",
    "\n",
    "wd = r'C:\\Users\\Radovan\\OneDrive\\Radboud\\Studentships\\Jordy Thielen\\root'\n",
    "os.chdir(wd)\n",
    "data_dir = join(wd, \"data\")\n",
    "experiment_dir = join(data_dir, \"experiment\")\n",
    "files_dir = join(experiment_dir, 'files')\n",
    "sourcedata_dir = join(experiment_dir, 'sourcedata')\n",
    "derivatives_dir = join(join(experiment_dir, 'derivatives'))\n",
    "\n",
    "analysis_dir = join(data_dir, \"analysis\")\n",
    "alpha_dir = join(analysis_dir, \"alpha\")\n",
    "decoding_results_dir = join(alpha_dir, \"decoding_results\") \n",
    "plots_dir = join(alpha_dir, \"plots\")\n",
    "features_dir = join(alpha_dir, \"plots\", \"features\")"
   ]
  }
 ],
 "metadata": {
  "language_info": {
   "name": "python"
  }
 },
 "nbformat": 4,
 "nbformat_minor": 2
}
