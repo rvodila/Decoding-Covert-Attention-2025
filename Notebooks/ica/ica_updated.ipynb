{
 "cells": [
  {
   "cell_type": "markdown",
   "id": "ac32de74",
   "metadata": {},
   "source": [
    "## Load data and creating set-up"
   ]
  },
  {
   "cell_type": "code",
   "execution_count": null,
   "id": "e2fefb95",
   "metadata": {},
   "outputs": [],
   "source": [
    "import os\n",
    "import mne\n",
    "import pyxdf\n",
    "import numpy as np\n",
    "import matplotlib.pyplot as plt\n",
    "from scipy.fft import fft, fftfreq\n",
    "from joblib import dump, load\n",
    "import pandas as pd\n",
    "from sklearn.decomposition import FastICA\n",
    "import joblib\n",
    "import mne"
   ]
  },
  {
   "cell_type": "code",
   "execution_count": null,
   "id": "7a9eae54",
   "metadata": {},
   "outputs": [],
   "source": [
    "fn = os.path.join(os.path.expanduser(\"~\"), \"Desktop\", \"Radboud\", \"work\", \"BCI\", \"cVEP\", \"sub-VPpdia\", \"ses-S001\", \"eeg\", \n",
    "                  \"sub-VPpdia_ses-S001_task-covert_run-001_eeg.xdf\")\n",
    "streams = pyxdf.load_xdf(fn)[0]\n",
    "names = [stream[\"info\"][\"name\"][0] for stream in streams]\n",
    "stream_id = names.index(\"BioSemi\")\n",
    "stream = streams[stream_id]\n",
    "\n",
    "sfreq = float(stream[\"info\"][\"nominal_srate\"][0])\n",
    "montage = mne.channels.make_standard_montage(\"biosemi64\")  # Add channel information\n",
    "\n",
    "info = mne.create_info(ch_names=montage.ch_names, sfreq=sfreq, ch_types=64 * [\"eeg\"], verbose=False)\n",
    "data = stream[\"time_series\"][:, 1:65]  # Select EEG only\n",
    "\n",
    "raw = mne.io.RawArray(data.T, info, verbose=False)\n",
    "raw._filenames = [fn]\n",
    "raw.set_montage(montage);"
   ]
  },
  {
   "cell_type": "markdown",
   "id": "02370aa5",
   "metadata": {},
   "source": [
    "### Pre-defined functions\n",
    "Below are functions that are used later on in the notebook."
   ]
  },
  {
   "cell_type": "code",
   "execution_count": null,
   "id": "6611ef6a",
   "metadata": {},
   "outputs": [],
   "source": [
    "def plot_ica_analysis(ica, raw, start_time, end_time):\n",
    "    sfreq = raw.info['sfreq']\n",
    "    start_idx = int(start_time * sfreq)\n",
    "    end_idx = int(end_time * sfreq)\n",
    "    for component_idx in range(ica.n_components_):\n",
    "        fig, ax = plt.subplots(2, 2, figsize=(10, 8), gridspec_kw={'width_ratios': [1, 2], 'height_ratios': [2, 1]})\n",
    "        fig.subplots_adjust(wspace=0.4, hspace=0.4)\n",
    "        fig.suptitle(f\"ICA Component {component_idx} Analysis\", fontsize=16)\n",
    "\n",
    "        # Topography (W)\n",
    "        mne.viz.plot_ica_components(ica, picks=[component_idx], ch_type='eeg', axes=ax[0, 0], colorbar=False, show=False)\n",
    "        ax[0, 0].set_title(f\"Component {component_idx} Topography\")\n",
    "\n",
    "        # Time Series (S)\n",
    "        ica_sources = ica.get_sources(raw).get_data()[component_idx]\n",
    "        times_focus = raw.times[start_idx:end_idx]\n",
    "        ica_sources_focus = ica_sources[start_idx:end_idx]\n",
    "        ax[0, 1].plot(times_focus, ica_sources_focus, lw=1)\n",
    "        ax[0, 1].set_title(f\"Time Series of Component {component_idx} ({start_time}-{end_time}s)\")\n",
    "        ax[0, 1].set_xlabel('Time (s)')\n",
    "        ax[0, 1].set_ylabel('Amplitude')\n",
    "\n",
    "        # Frequency Spectrum\n",
    "        freqs = np.fft.rfftfreq(n=len(ica_sources_focus), d=1/sfreq)\n",
    "        fft_vals = np.abs(fft(ica_sources_focus))[:len(freqs)]\n",
    "        max_freq = 100\n",
    "        freq_mask = freqs <= max_freq\n",
    "        power_spectrum_dB = 10 * np.log10(fft_vals[freq_mask] ** 2) \n",
    "        ax[1, 1].plot(freqs[freq_mask], power_spectrum_dB, lw=1)\n",
    "        ax[1, 1].set_title(f\"Frequency Spectrum of Component {component_idx} (Max 100 Hz)\")\n",
    "        ax[1, 1].set_xlabel('Frequency (Hz)')\n",
    "        ax[1, 1].set_ylabel('Magnitude (dB)')\n",
    "        ax[1, 0].axis('off')\n",
    "        plt.tight_layout(rect=[0, 0, 1, 0.95])\n",
    "        plt.show()\n",
    "        \n",
    "def plot_ica_analysis_individual(ica, raw, component_idx, start_time, end_time):\n",
    "    sfreq = raw.info['sfreq']\n",
    "    start_idx = int(start_time * sfreq)\n",
    "    end_idx = int(end_time * sfreq)\n",
    "\n",
    "    fig, ax = plt.subplots(2, 2, figsize=(10, 8), gridspec_kw={'width_ratios': [1, 2], 'height_ratios': [2, 1]})\n",
    "    fig.subplots_adjust(wspace=0.4, hspace=0.4)\n",
    "    fig.suptitle(f\"ICA Component {component_idx} Analysis\", fontsize=16)\n",
    "\n",
    "    # Topography (W)\n",
    "    mne.viz.plot_ica_components(ica, picks=[component_idx], ch_type='eeg', axes=ax[0, 0], colorbar=False, show=False)\n",
    "    ax[0, 0].set_title(f\"Component {component_idx} Topography\")\n",
    "\n",
    "    # Time Series (S)\n",
    "    ica_sources = ica.get_sources(raw).get_data()[component_idx]\n",
    "    times_focus = raw.times[start_idx:end_idx]\n",
    "    ica_sources_focus = ica_sources[start_idx:end_idx]\n",
    "    ax[0, 1].plot(times_focus, ica_sources_focus, lw=1)\n",
    "    ax[0, 1].set_title(f\"Time Series of Component {component_idx} ({start_time}-{end_time}s)\")\n",
    "    ax[0, 1].set_xlabel('Time (s)')\n",
    "    ax[0, 1].set_ylabel('Amplitude')\n",
    "\n",
    "    # Frequency Spectrum\n",
    "    freqs = np.fft.rfftfreq(n=len(ica_sources_focus), d=1/sfreq)\n",
    "    fft_vals = np.abs(fft(ica_sources_focus))[:len(freqs)]\n",
    "    max_freq = 100\n",
    "    freq_mask = freqs <= max_freq\n",
    "    power_spectrum_dB = 10 * np.log10(fft_vals[freq_mask] ** 2)  # Squaring FFT values for power calculation\n",
    "    ax[1, 1].plot(freqs[freq_mask], power_spectrum_dB, lw=1)\n",
    "    ax[1, 1].set_title(f\"Frequency Spectrum of Component {component_idx} (Max 100 Hz)\")\n",
    "    ax[1, 1].set_xlabel('Frequency (Hz)')\n",
    "    ax[1, 1].set_ylabel('Magnitude (dB)')\n",
    "    ax[1, 0].axis('off')\n",
    "\n",
    "    plt.tight_layout(rect=[0, 0, 1, 0.95])\n",
    "    plt.show()"
   ]
  },
  {
   "cell_type": "markdown",
   "id": "b0edb055",
   "metadata": {},
   "source": [
    "### Delete bad electrodes\n",
    "The electrodes are deleted based on the previous round I did. For every participant I noted down what electrodes should be excluded and for what reason. Because of this, no in-depth analysis is performed for all electrodes in this notebook."
   ]
  },
  {
   "cell_type": "code",
   "execution_count": null,
   "id": "bb07a4f6",
   "metadata": {},
   "outputs": [],
   "source": [
    "channels_to_drop = ['']\n",
    "raw.drop_channels(channels_to_drop)"
   ]
  },
  {
   "cell_type": "markdown",
   "id": "34b2de1e",
   "metadata": {},
   "source": [
    "### Create log files and keep up with them"
   ]
  },
  {
   "cell_type": "code",
   "execution_count": null,
   "id": "5726b0b8",
   "metadata": {},
   "outputs": [],
   "source": [
    "participants = ['VPpdizc']\n",
    "\n",
    "\n",
    "# Define the base directory\n",
    "base_dir = \"/Users/juliette/Desktop/participant_files\" \n",
    "\n",
    "# Create the main directory if it doesn't exist\n",
    "os.makedirs(base_dir, exist_ok=True)\n",
    "\n",
    "# Create log files with structured CSV format\n",
    "for participant in participants:\n",
    "    participant_folder = os.path.join(base_dir, participant)  \n",
    "    os.makedirs(participant_folder, exist_ok=True)  \n",
    "\n",
    "    # Define file paths\n",
    "    bad_elec_file = os.path.join(participant_folder, f\"sub-{participant}_bad_elec.csv\")\n",
    "    deleted_eye_file = os.path.join(participant_folder, f\"sub-{participant}_deleted_eye_components.csv\")\n",
    "    retained_noise_file = os.path.join(participant_folder, f\"sub-{participant}_retained_noise_components.csv\")\n",
    "\n",
    "    # Write bad electrodes file\n",
    "    with open(bad_elec_file, \"w\") as file:\n",
    "        file.write(\"Electrode,Reason\\n\")\n",
    "\n",
    "    # Write deleted eye components file\n",
    "    with open(deleted_eye_file, \"w\") as file:\n",
    "        file.write(\"Component,Reason\\n\")\n",
    "        \n",
    "    # Write retained noise components file\n",
    "    with open(retained_noise_file, \"w\") as file:\n",
    "        file.write(\"Component,Reason\\n\")\n"
   ]
  },
  {
   "cell_type": "code",
   "execution_count": null,
   "id": "82bcd8fe",
   "metadata": {},
   "outputs": [],
   "source": [
    "# Define the file path for a specific participant\n",
    "participant = \"VPpdizc\"\n",
    "file_path = f\"/Users/juliette/Desktop/participant_files/{participant}/sub-{participant}_bad_elec.csv\"\n",
    "\n",
    "# Load the existing file\n",
    "df = pd.read_csv(file_path)\n",
    "\n",
    "# Add a new electrode to the file\n",
    "new_entry = pd.DataFrame({\n",
    "    \"Electrode\": [\"P1\", 'PO3', 'POz', \"Pz\", 'P2', \"FC2\"], \n",
    "    \"Reason\": [\"Reported as a bad electrode during the experiment.\",\n",
    "              \"Reported as a bad electrode during the experiment.\",\n",
    "              \"Reported as a bad electrode during the experiment.\",\n",
    "              \"Reported as a bad electrode during the experiment.\",\n",
    "              \"Reported as a bad electrode during the experiment.\",\n",
    "              \"Large deflections.\"]\n",
    "})\n",
    "  \n",
    "df = pd.concat([df, new_entry], ignore_index=True)\n",
    "\n",
    "# Save back to CSV\n",
    "df.to_csv(file_path, index=False)\n",
    "\n",
    "print(f\"Updated {file_path}\")\n"
   ]
  },
  {
   "cell_type": "markdown",
   "id": "565b29e9",
   "metadata": {},
   "source": [
    "### Creating the ICA models\n",
    "Here I fit the ICA for the participants after some preprosessing steps."
   ]
  },
  {
   "cell_type": "code",
   "execution_count": null,
   "id": "c4dc4429",
   "metadata": {
    "scrolled": true
   },
   "outputs": [],
   "source": [
    "save_dir = os.path.expanduser(\"~\") + \"/Desktop/participant_files\" \n",
    "\n",
    "for participant in participants:\n",
    "    # Load the EEG data\n",
    "    fn = os.path.join(os.path.expanduser(\"~\"), \"Desktop\", \"Radboud\", \"work\", \"BCI\", \"cVEP\", \n",
    "                      f\"sub-{participant}\", \"ses-S001\", \"eeg\", \n",
    "                      f\"sub-{participant}_ses-S001_task-covert_run-001_eeg.xdf\")\n",
    "\n",
    "    # Load the XDF file\n",
    "    streams = pyxdf.load_xdf(fn)[0]\n",
    "    names = [stream[\"info\"][\"name\"][0] for stream in streams]\n",
    "    stream_id = names.index(\"BioSemi\")\n",
    "    stream = streams[stream_id]\n",
    "\n",
    "    # Extract sampling rate and data\n",
    "    sfreq = float(stream[\"info\"][\"nominal_srate\"][0])\n",
    "    montage = mne.channels.make_standard_montage(\"biosemi64\")  # Add channel information\n",
    "\n",
    "    info = mne.create_info(ch_names=montage.ch_names, sfreq=sfreq, ch_types=64 * [\"eeg\"], verbose=False)\n",
    "    data = stream[\"time_series\"][:, 1:65]  # Select EEG data (first 64 channels)\n",
    "\n",
    "    # Create raw MNE object\n",
    "    raw = mne.io.RawArray(data.T, info, verbose=False)\n",
    "    raw._filenames = [fn]\n",
    "    raw.set_montage(montage)\n",
    "    \n",
    "    # Apply a spectral filter\n",
    "    raw.load_data()\n",
    "    raw.filter(l_freq=1.0, h_freq=100, verbose=False)  # Apply the 1-100 Hz bandpass filter\n",
    "    raw.notch_filter(freqs=np.arange(50, raw.info['sfreq'] / 2, 50))  # Apply notch filter\n",
    "\n",
    "    # Read bad electrode list from the CSV file\n",
    "    bad_elec_file = os.path.join(save_dir, participant, f\"sub-{participant}_bad_elec.csv\")  # CSV file\n",
    "    bad_electrodes = []\n",
    "\n",
    "    # Read the CSV file into a pandas DataFrame\n",
    "    df = pd.read_csv(bad_elec_file)\n",
    "    bad_electrodes = df[\"Electrode\"].dropna().tolist()\n",
    "    \n",
    "    # Drop the bad electrodes from the raw data\n",
    "    raw.drop_channels(bad_electrodes)\n",
    "    \n",
    "    print(bad_electrodes)\n",
    "\n",
    "    # Learn ICA\n",
    "    ica = mne.preprocessing.ICA(random_state=42)\n",
    "    ica.fit(raw)\n",
    "\n",
    "    # Create participant's folder if it doesn't exist\n",
    "    participant_folder = os.path.join(save_dir, participant)\n",
    "    os.makedirs(participant_folder, exist_ok=True)\n",
    "\n",
    "    # Save the ICA model in the participant's folder\n",
    "    ica_filename = os.path.join(participant_folder, f\"{participant}_ICA_.joblib\")\n",
    "    joblib.dump(ica, ica_filename)\n",
    "\n",
    "    print(f\"ICA model for {participant} saved to {ica_filename}\")\n"
   ]
  },
  {
   "cell_type": "markdown",
   "id": "22ad9e12",
   "metadata": {},
   "source": [
    "## Plotting the ICA and analysing for removal\n",
    "In this section all components are plotted and removed when they appear to be eyeblinks, or prominent noise. The EEG data is first loaded in the same way as is done in the previous cell. Then, the ICA model is loaded and the components are plotted."
   ]
  },
  {
   "cell_type": "code",
   "execution_count": null,
   "id": "6d1f673f",
   "metadata": {
    "scrolled": true
   },
   "outputs": [],
   "source": [
    "# Load the ICA model\n",
    "participant = \"VPpdizc\"\n",
    "ICA = joblib.load(f'/Users/juliette/Desktop/participant_files/{participant}/{participant}_ICA_.joblib')\n",
    "\n",
    "# Load EEG data\n",
    "fn = os.path.join(os.path.expanduser(\"~\"), \"Desktop\", \"Radboud\", \"work\", \"BCI\", \"cVEP\", \n",
    "                  f\"sub-{participant}\", \"ses-S001\", \"eeg\", \n",
    "                  f\"sub-{participant}_ses-S001_task-covert_run-001_eeg.xdf\")\n",
    "\n",
    "# Load the XDF file\n",
    "streams = pyxdf.load_xdf(fn)[0]\n",
    "names = [stream[\"info\"][\"name\"][0] for stream in streams]\n",
    "stream_id = names.index(\"BioSemi\")\n",
    "stream = streams[stream_id]\n",
    "\n",
    "# Extract EEG data and sampling rate\n",
    "sfreq = float(stream[\"info\"][\"nominal_srate\"][0])\n",
    "montage = mne.channels.make_standard_montage(\"biosemi64\")\n",
    "\n",
    "info = mne.create_info(ch_names=montage.ch_names, sfreq=sfreq, ch_types=64 * [\"eeg\"], verbose=False)\n",
    "data = stream[\"time_series\"][:, 1:65]  # Select EEG data (first 64 channels)\n",
    "\n",
    "raw = mne.io.RawArray(data.T, info, verbose=False)\n",
    "raw.set_montage(montage)\n",
    "\n",
    "# Apply filtering (same as before)\n",
    "raw.load_data()\n",
    "raw.filter(l_freq=1.0, h_freq=100, verbose=False)\n",
    "raw.notch_filter(freqs=np.arange(50, raw.info['sfreq'] / 2, 50))\n",
    "\n",
    "# Filter out rows where the Electrode is \"-\" (no electrode to remove)\n",
    "bad_electrodes = df[\"Electrode\"].dropna().tolist()\n",
    "\n",
    "# Drop the bad electrodes from the raw data\n",
    "raw.drop_channels(bad_electrodes)"
   ]
  },
  {
   "cell_type": "code",
   "execution_count": null,
   "id": "79b0c528",
   "metadata": {
    "scrolled": false
   },
   "outputs": [],
   "source": [
    "# Load the saved ICA model\n",
    "ica_filename = os.path.join(save_dir, participant, f\"{participant}_ICA_.joblib\")\n",
    "ica = joblib.load(ica_filename)\n",
    "\n",
    "\n",
    "# Plot the ICA components\n",
    "n_components = ica.n_components_\n",
    "chunk_size = 16\n",
    "\n",
    "for i in range(0, n_components, chunk_size):\n",
    "    picks = np.arange(i, min(i + chunk_size, n_components))\n",
    "    \n",
    "    # Plot the sources for the selected component range\n",
    "    ica.plot_sources(raw, picks=picks, show_scrollbars=False, start=400, stop=500)"
   ]
  },
  {
   "cell_type": "code",
   "execution_count": null,
   "id": "ec0822bf",
   "metadata": {
    "scrolled": false
   },
   "outputs": [],
   "source": [
    "ica.plot_components();"
   ]
  },
  {
   "cell_type": "code",
   "execution_count": null,
   "id": "d4b383ee",
   "metadata": {
    "scrolled": true
   },
   "outputs": [],
   "source": [
    "start = 0\n",
    "end = 100\n",
    "plot_ica_analysis(ica, raw, start, end)"
   ]
  },
  {
   "cell_type": "code",
   "execution_count": null,
   "id": "fc278422",
   "metadata": {
    "scrolled": false
   },
   "outputs": [],
   "source": [
    "components = [16, 38, 44, 49, 57, 12, 10, 11, 31, 20, 21, 22, 23, 33]\n",
    "for i in components:\n",
    "    plot_ica_analysis_individual(ica, raw, i, 400, 500)"
   ]
  },
  {
   "cell_type": "markdown",
   "id": "5aa91b88",
   "metadata": {},
   "source": [
    "### Keeping up log for artefacts\n",
    "Keeping up the log for the eyeblinks."
   ]
  },
  {
   "cell_type": "code",
   "execution_count": null,
   "id": "dbc25968",
   "metadata": {},
   "outputs": [],
   "source": [
    "# File path to update component log (eyeblinks)\n",
    "file_path = f\"/Users/juliette/Desktop/participant_files/{participant}/sub-{participant}_deleted_eye_components.csv\"\n",
    "\n",
    "# Load the existing file\n",
    "df = pd.read_csv(file_path)\n",
    "\n",
    "# Add a new electrode to the file\n",
    "new_entry = pd.DataFrame({\n",
    "    \"Component\": [\"0\", \"3\", \"4\", \"7\", \"13\"], \n",
    "    \"Reason\": [\"Appear to be eyeblinks due to peaks in time series and frontal activity.\",\n",
    "               \"Appear to be eyeblinks due to peaks in time series and frontal activity.\",\n",
    "               \"Appear to be eyeblinks due to peaks in time series and frontal activity.\",\n",
    "               \"Appear to be eyeblinks due to peaks in time series and frontal activity.\",\n",
    "               \"Appear to be eyeblinks due to peaks in time series and frontal activity.\"\n",
    "              ]\n",
    "})\n",
    "  \n",
    "df = pd.concat([df, new_entry], ignore_index=True)\n",
    "\n",
    "# Save back to CSV\n",
    "df.to_csv(file_path, index=False)\n",
    "\n",
    "print(f\"Updated {file_path}\")\n"
   ]
  },
  {
   "cell_type": "markdown",
   "id": "776d87cc",
   "metadata": {},
   "source": [
    "Keeping up the log for the noisy components"
   ]
  },
  {
   "cell_type": "code",
   "execution_count": null,
   "id": "aadae41e",
   "metadata": {},
   "outputs": [],
   "source": [
    "# File path to update component log (noise)\n",
    "file_path = f\"/Users/juliette/Desktop/participant_files/{participant}/sub-{participant}_retained_noise_components.csv\"\n",
    "\n",
    "# Load the existing file\n",
    "df = pd.read_csv(file_path)\n",
    "\n",
    "# Add a new electrode to the file\n",
    "new_entry = pd.DataFrame({\n",
    "    \"Component\": [\"16\", \"38\", \"44\", \"12\", \"10\", \"21\", \"23\", \"20\", \"31\", \"21\"], \n",
    "    \"Reason\": [\"Noisy time series.\",\n",
    "               \"Noisy time series.\",\n",
    "               \"Noisy time series.\",\n",
    "               \"Noisy time series.\",\n",
    "               \"Noisy time series.\",\n",
    "               \"Noisy time series.\",\n",
    "               \"Noisy time series.\",\n",
    "               \"Noisy time series.\",\n",
    "               \"Noisy time series.\",\n",
    "               \"Noisy time series.\"\n",
    "               \n",
    "              ]})\n",
    "  \n",
    "df = pd.concat([df, new_entry], ignore_index=True)\n",
    "\n",
    "# Save back to CSV\n",
    "df.to_csv(file_path, index=False)\n",
    "\n",
    "print(f\"Updated {file_path}\")"
   ]
  },
  {
   "cell_type": "code",
   "execution_count": null,
   "id": "287851b1",
   "metadata": {},
   "outputs": [],
   "source": [
    "ica.exclude = [0, 3, 4, 7, 13]\n",
    "ica.apply(raw)"
   ]
  },
  {
   "cell_type": "code",
   "execution_count": null,
   "id": "b5bbbf91",
   "metadata": {},
   "outputs": [],
   "source": []
  }
 ],
 "metadata": {
  "kernelspec": {
   "display_name": "Python (py39)",
   "language": "python",
   "name": "py39"
  },
  "language_info": {
   "codemirror_mode": {
    "name": "ipython",
    "version": 3
   },
   "file_extension": ".py",
   "mimetype": "text/x-python",
   "name": "python",
   "nbconvert_exporter": "python",
   "pygments_lexer": "ipython3",
   "version": "3.9.18"
  }
 },
 "nbformat": 4,
 "nbformat_minor": 5
}
